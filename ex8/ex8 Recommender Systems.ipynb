{
 "cells": [
  {
   "cell_type": "markdown",
   "metadata": {},
   "source": [
    "# 2 Recommender Systems \n",
    "We will implement the collaborative filtering learning algorithm and apply it to a dataset of movie ratings.\n",
    "This dataset consists of ratings on a scale of 1 to 5. \n",
    "The dataset has n_u = 943 users, and n_m = 1682 movies.\n"
   ]
  },
  {
   "cell_type": "code",
   "execution_count": 1,
   "metadata": {},
   "outputs": [],
   "source": [
    "import scipy.io\n",
    "import numpy as np\n",
    "import matplotlib.pyplot as plt"
   ]
  },
  {
   "cell_type": "markdown",
   "metadata": {},
   "source": [
    "## 2.1 Movie ratings dataset "
   ]
  },
  {
   "cell_type": "code",
   "execution_count": 2,
   "metadata": {},
   "outputs": [],
   "source": [
    "data = scipy.io.loadmat('data/ex8_movies.mat')\n",
    "Y = data['Y'] # a matrix stores the rating from 1 to 5 of shape (1682,943)\n",
    "R = data['R'] # an binary-valued indicator matrix of shape (1682,943)\n",
    "              # where R[i,j] = 1 if user j gave a rating to movie i, and R[i,j] = 0 otherwise.\n",
    "    \n",
    "n_m, n_u = Y.shape"
   ]
  },
  {
   "cell_type": "code",
   "execution_count": 3,
   "metadata": {},
   "outputs": [
    {
     "name": "stdout",
     "output_type": "stream",
     "text": [
      "Average rating for movie 1 (Toy Story): 3.88 / 5\n"
     ]
    },
    {
     "data": {
      "image/png": "[encoded data removed]",
      "text/plain": [
       "<matplotlib.figure.Figure at 0x180925f4e0>"
      ]
     },
     "metadata": {},
     "output_type": "display_data"
    }
   ],
   "source": [
    "avg_rating = np.mean(Y[0, R[0, :]==1])\n",
    "print('Average rating for movie 1 (Toy Story): {:.2f} / 5'.format(avg_rating))\n",
    "\n",
    "# Visualize the ratings matrix\n",
    "plt.figure(figsize=(6,6))\n",
    "plt.imshow(Y)\n",
    "plt.colorbar()\n",
    "plt.ylabel('{} Movies'.format(n_m))\n",
    "plt.xlabel('{} Users'.format(n_u))\n",
    "plt.show()"
   ]
  },
  {
   "cell_type": "markdown",
   "metadata": {},
   "source": [
    "## 2.2 Collaborative filtering learning algorithm \n",
    "\n",
    "The collaborative filtering algorithm in the setting of movie recommendations \n",
    "considers a set of n-dimensional parameter vectors \n",
    "x[0] , ..., x[n_m-1] and θ[0],...,θ[n_u-1], \n",
    "where the model predicts the rating for movie i by user j as Y[i, j] = (θ[ j ]).T.dot(x[i]). \n",
    "\n",
    "We wish to learn the parameter vectors x(1),...,x(n_m), θ(1),...,θ(n_u) that produce the best fit \n",
    "(minimizes the squared error).\n",
    "\n"
   ]
  },
  {
   "cell_type": "code",
   "execution_count": 4,
   "metadata": {},
   "outputs": [],
   "source": [
    "# Load pre-trained weights\n",
    "data = scipy.io.loadmat('data/ex8_movieParams.mat')\n",
    "X = data['X']\n",
    "Theta = data['Theta']\n",
    "\n",
    "# Reduce the data set size so that this runs faster\n",
    "num_users = 4; num_movies = 5; num_features = 3\n",
    "X = X[:num_movies, :num_features]        # shape:(5,3)\n",
    "Theta = Theta[:num_users, :num_features] # shape:(4,3)\n",
    "Y = Y[:num_movies, :num_users]           # shape:(5,4) \n",
    "R = R[:num_movies, :num_users]           # shape:(5,4)"
   ]
  },
  {
   "cell_type": "code",
   "execution_count": 5,
   "metadata": {},
   "outputs": [],
   "source": [
    "def flattenParams(param1, param2):\n",
    "    p1 = param1.flatten()\n",
    "    p2 = param2.flatten()\n",
    "    params = np.append(p1, p2)\n",
    "    return params\n",
    "\n",
    "def reshapeParams(params, num_users, num_movies, num_features):\n",
    "    X = params[:int(num_movies*num_features)].reshape((num_movies, num_features))\n",
    "    Theta = params[int(num_movies*num_features):].reshape((num_users, num_features))\n",
    "    return X, Theta"
   ]
  },
  {
   "cell_type": "markdown",
   "metadata": {},
   "source": [
    "### 2.2.1 Collaborative filtering cost function & 2.2.3 Regularized cost function "
   ]
  },
  {
   "cell_type": "code",
   "execution_count": 6,
   "metadata": {},
   "outputs": [],
   "source": [
    "def cofiCostFunc(params, Y, R, num_users, num_movies, num_features, _lambda):\n",
    "    \"\"\"\n",
    "    returns the cost for the collaborative filtering problem\n",
    "    \"\"\"\n",
    "    X, Theta = reshapeParams(params, num_users, num_movies, num_features)\n",
    "    J = np.sum(np.sum((X.dot(Theta.T)*R - Y*R)**2)/2 + (_lambda/2)*np.sum(Theta**2) + (_lambda/2)*np.sum(X**2))\n",
    "    \n",
    "    return J"
   ]
  },
  {
   "cell_type": "code",
   "execution_count": 7,
   "metadata": {},
   "outputs": [
    {
     "name": "stdout",
     "output_type": "stream",
     "text": [
      "Cost at loaded parameters (lambda = 0.): 22.22 \n",
      "(this value should be about 22.22)\n",
      "Cost at loaded parameters (lambda = 1.5): 31.34 \n",
      "(this value should be about 31.34)\n"
     ]
    }
   ],
   "source": [
    "params = flattenParams(X, Theta)\n",
    "J1 = cofiCostFunc(params, Y, R, num_users, num_movies, num_features, 0.)\n",
    "J2 = cofiCostFunc(params, Y, R, num_users, num_movies, num_features, 1.5)\n",
    "\n",
    "print('Cost at loaded parameters (lambda = 0.): {:.2f} \\n(this value should be about 22.22)'.format(J1))\n",
    "print('Cost at loaded parameters (lambda = 1.5): {:.2f} \\n(this value should be about 31.34)'.format(J2))"
   ]
  },
  {
   "cell_type": "markdown",
   "metadata": {},
   "source": [
    "### 2.2.2 Collaborative filtering gradient & 2.2.4 Regularized gradient "
   ]
  },
  {
   "cell_type": "code",
   "execution_count": 8,
   "metadata": {},
   "outputs": [],
   "source": [
    "def cofiGrad(params, Y, R, num_users, num_movies, num_features, _lambda):\n",
    "    \"\"\"\n",
    "    returns the gradient for the collaborative filtering problem\n",
    "    \"\"\"\n",
    "    X, Theta = reshapeParams(params, num_users, num_movies, num_features)\n",
    "    X_grad = (X.dot(Theta.T)*R - Y*R).dot(Theta) + _lambda*X\n",
    "    Theta_grad = (X.dot(Theta.T)*R - Y*R).T.dot(X) + _lambda*Theta\n",
    "    grad = flattenParams(X_grad, Theta_grad)\n",
    "    return grad"
   ]
  },
  {
   "cell_type": "markdown",
   "metadata": {},
   "source": [
    "## 2.3 Learning movie recommendations"
   ]
  },
  {
   "cell_type": "code",
   "execution_count": 9,
   "metadata": {},
   "outputs": [
    {
     "data": {
      "text/html": [
       "<div>\n",
       "<style scoped>\n",
       "    .dataframe tbody tr th:only-of-type {\n",
       "        vertical-align: middle;\n",
       "    }\n",
       "\n",
       "    .dataframe tbody tr th {\n",
       "        vertical-align: top;\n",
       "    }\n",
       "\n",
       "    .dataframe thead th {\n",
       "        text-align: right;\n",
       "    }\n",
       "</style>\n",
       "<table border=\"1\" class=\"dataframe\">\n",
       "  <thead>\n",
       "    <tr style=\"text-align: right;\">\n",
       "      <th></th>\n",
       "      <th>movies</th>\n",
       "    </tr>\n",
       "  </thead>\n",
       "  <tbody>\n",
       "    <tr>\n",
       "      <th>0</th>\n",
       "      <td>1 Toy Story (1995)</td>\n",
       "    </tr>\n",
       "    <tr>\n",
       "      <th>1</th>\n",
       "      <td>2 GoldenEye (1995)</td>\n",
       "    </tr>\n",
       "    <tr>\n",
       "      <th>2</th>\n",
       "      <td>3 Four Rooms (1995)</td>\n",
       "    </tr>\n",
       "    <tr>\n",
       "      <th>3</th>\n",
       "      <td>4 Get Shorty (1995)</td>\n",
       "    </tr>\n",
       "    <tr>\n",
       "      <th>4</th>\n",
       "      <td>5 Copycat (1995)</td>\n",
       "    </tr>\n",
       "  </tbody>\n",
       "</table>\n",
       "</div>"
      ],
      "text/plain": [
       "                movies\n",
       "0   1 Toy Story (1995)\n",
       "1   2 GoldenEye (1995)\n",
       "2  3 Four Rooms (1995)\n",
       "3  4 Get Shorty (1995)\n",
       "4     5 Copycat (1995)"
      ]
     },
     "execution_count": 9,
     "metadata": {},
     "output_type": "execute_result"
    }
   ],
   "source": [
    "import pandas as pd\n",
    "df = pd.read_csv('data/movie_ids.txt', names=['movies'], encoding='latin-1') # UTF-8 fails\n",
    "df.head()"
   ]
  },
  {
   "cell_type": "code",
   "execution_count": 10,
   "metadata": {},
   "outputs": [
    {
     "name": "stdout",
     "output_type": "stream",
     "text": [
      "There are 1682 movies in total.\n"
     ]
    },
    {
     "data": {
      "text/plain": [
       "['Toy Story (1995)',\n",
       " 'GoldenEye (1995)',\n",
       " 'Four Rooms (1995)',\n",
       " 'Get Shorty (1995)',\n",
       " 'Copycat (1995)']"
      ]
     },
     "execution_count": 10,
     "metadata": {},
     "output_type": "execute_result"
    }
   ],
   "source": [
    "movies = []\n",
    "for m in df['movies']:\n",
    "    movies.append(' '.join(m.split(' ')[1:]))\n",
    "\n",
    "print('There are {} movies in total.'.format(len(movies)))\n",
    "movies[:5]"
   ]
  },
  {
   "cell_type": "code",
   "execution_count": 11,
   "metadata": {
    "scrolled": true
   },
   "outputs": [],
   "source": [
    "# some movies has been rated in homework\n",
    "ratings = np.zeros((1682,1))\n",
    "ratings[0]   = 4\n",
    "ratings[97]  = 2\n",
    "ratings[6]   = 3\n",
    "ratings[11]  = 5\n",
    "ratings[53]  = 4\n",
    "ratings[63]  = 5\n",
    "ratings[65]  = 3\n",
    "ratings[68]  = 5\n",
    "ratings[182] = 4\n",
    "ratings[225] = 5\n",
    "ratings[354] = 5"
   ]
  },
  {
   "cell_type": "code",
   "execution_count": 12,
   "metadata": {},
   "outputs": [],
   "source": [
    "data = scipy.io.loadmat('data/ex8_movies.mat')\n",
    "Y = data['Y'] # a matrix stores the rating from 1 to 5 of shape (1682,943)\n",
    "R = data['R'] # an binary-valued indicator matrix of shape (1682,943)\n",
    "              # where R[i,j] = 1 if user j gave a rating to movie i, and R[i,j] = 0 otherwise.\n",
    "\n",
    "# Add our own ratings to the data matrix\n",
    "Y = np.append(ratings, Y, axis=1)\n",
    "R = np.append(np.c_[ratings!=0], R, axis=1)"
   ]
  },
  {
   "cell_type": "code",
   "execution_count": 13,
   "metadata": {},
   "outputs": [],
   "source": [
    "def normalizeRatings(Y, R):\n",
    "    \"\"\"\n",
    "    If we skip this step, a user who has not rated any movies will get predicted score of 0 for every movie.\n",
    "    It is because the regularization term in costfunction encourags us to set parameters close to 0 \n",
    "    And it makes sense if we let predicted score be the average score of that movie.\n",
    "    \"\"\"\n",
    "    Ymean = np.c_[np.sum(Y, axis=1)/np.sum(R, axis=1)]\n",
    "    Ynorm = Y - Ymean\n",
    "    return Ynorm, Ymean\n",
    "\n",
    "Ynorm, Ymean = normalizeRatings(Y, R)"
   ]
  },
  {
   "cell_type": "code",
   "execution_count": 14,
   "metadata": {},
   "outputs": [],
   "source": [
    "# Useful Values\n",
    "num_movies, num_users = Ynorm.shape\n",
    "num_features = 10\n",
    "_lambda = 10\n",
    "\n",
    "# Set Initial Parameters (Theta, X)\n",
    "X = np.random.randn(num_movies, num_features)\n",
    "Theta = np.random.randn(num_users, num_features)\n",
    "initial_parameters = flattenParams(X, Theta)"
   ]
  },
  {
   "cell_type": "code",
   "execution_count": 15,
   "metadata": {},
   "outputs": [
    {
     "name": "stdout",
     "output_type": "stream",
     "text": [
      "Warning: Maximum number of iterations has been exceeded.\n",
      "         Current function value: 38956.536290\n",
      "         Iterations: 100\n",
      "         Function evaluations: 147\n",
      "         Gradient evaluations: 147\n"
     ]
    }
   ],
   "source": [
    "# training collaborative filtering\n",
    "from scipy import optimize\n",
    "\n",
    "def optimizer(initial_parameters, Ynorm, R, num_users, num_movies, num_features, _lambda):  \n",
    "    res = optimize.fmin_cg(cofiCostFunc, x0=initial_parameters, fprime=cofiGrad, \n",
    "                           args=(Ynorm, R, num_users, num_movies, num_features, _lambda),\n",
    "                           maxiter=100)\n",
    "    return res\n",
    "\n",
    "params = optimizer(initial_parameters, Ynorm, R, num_users, num_movies, num_features, _lambda)"
   ]
  },
  {
   "cell_type": "markdown",
   "metadata": {},
   "source": [
    "### 2.3.1 Recommendations"
   ]
  },
  {
   "cell_type": "code",
   "execution_count": 16,
   "metadata": {},
   "outputs": [],
   "source": [
    "# unfold the params and get the prediction matrix\n",
    "X, Theta = reshapeParams(params, num_users, num_movies, num_features)\n",
    "prediction_matrix = X.dot(Theta.T)\n",
    "\n",
    "# because we implemented mean normalization, we have to add the average back\n",
    "predictions = prediction_matrix[:,0] + Ymean.flatten()\n",
    "\n",
    "# find the index and sort them in the descending order\n",
    "pred_idxs = np.argsort(predictions)[::-1]"
   ]
  },
  {
   "cell_type": "code",
   "execution_count": 17,
   "metadata": {},
   "outputs": [
    {
     "name": "stdout",
     "output_type": "stream",
     "text": [
      "Top recommendations for you:\n",
      "Predicting rating 5.0 for movie Aiqing wansui (1994).\n",
      "Predicting rating 5.0 for movie Someone Else's America (1995).\n",
      "Predicting rating 5.0 for movie Santa with Muscles (1996).\n",
      "Predicting rating 5.0 for movie Prefontaine (1997).\n",
      "Predicting rating 5.0 for movie Star Kid (1997).\n",
      "Predicting rating 5.0 for movie They Made Me a Criminal (1939).\n",
      "Predicting rating 5.0 for movie Marlene Dietrich: Shadow and Light (1996) .\n",
      "Predicting rating 5.0 for movie Saint of Fort Washington.\n",
      "Predicting rating 5.0 for movie Entertaining Angels: The Dorothy Day Story (1996).\n",
      "Predicting rating 5.0 for movie Great Day in Harlem.\n",
      "\n",
      "Original ratings provided:\n",
      "Rated 4 for movie Toy Story (1995).\n",
      "Rated 3 for movie Twelve Monkeys (1995).\n",
      "Rated 5 for movie Usual Suspects.\n",
      "Rated 4 for movie Outbreak (1995).\n",
      "Rated 5 for movie Shawshank Redemption.\n",
      "Rated 3 for movie While You Were Sleeping (1995).\n",
      "Rated 5 for movie Forrest Gump (1994).\n",
      "Rated 2 for movie Silence of the Lambs.\n",
      "Rated 4 for movie Alien (1979).\n",
      "Rated 5 for movie Die Hard 2 (1990).\n",
      "Rated 5 for movie Sphere (1998).\n"
     ]
    }
   ],
   "source": [
    "print('Top recommendations for you:')\n",
    "for i in range(10):\n",
    "    print('Predicting rating {:0.1f} for movie {}.'.format(predictions[pred_idxs[i]],movies[pred_idxs[i]]))\n",
    "    \n",
    "print('\\nOriginal ratings provided:')\n",
    "for i in range(len(ratings)):\n",
    "    if ratings[i] > 0:\n",
    "        print('Rated {} for movie {}.'.format(int(ratings[i]), movies[i]))"
   ]
  }
 ],
 "metadata": {
  "kernelspec": {
   "display_name": "Python 3",
   "language": "python",
   "name": "python3"
  },
  "language_info": {
   "codemirror_mode": {
    "name": "ipython",
    "version": 3
   },
   "file_extension": ".py",
   "mimetype": "text/x-python",
   "name": "python",
   "nbconvert_exporter": "python",
   "pygments_lexer": "ipython3",
   "version": "3.6.4"
  }
 },
 "nbformat": 4,
 "nbformat_minor": 2
}
